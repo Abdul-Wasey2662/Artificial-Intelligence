{
 "cells": [
  {
   "cell_type": "code",
   "execution_count": 16,
   "id": "1d30f0e4",
   "metadata": {},
   "outputs": [],
   "source": [
    "import pandas as pd\n",
    "import numpy as np\n",
    "from collections import Counter\n",
    "import sklearn.metrics as sm\n",
    "import matplotlib.pyplot as plot"
   ]
  },
  {
   "cell_type": "code",
   "execution_count": 17,
   "id": "cf3d36ed",
   "metadata": {},
   "outputs": [],
   "source": [
    "df=pd.read_csv(\"Summary of Weather.csv\" , delimiter=\"/t\")"
   ]
  },
  {
   "cell_type": "code",
   "execution_count": null,
   "id": "2fa71626",
   "metadata": {},
   "outputs": [],
   "source": []
  }
 ],
 "metadata": {
  "kernelspec": {
   "display_name": "Python 3 (ipykernel)",
   "language": "python",
   "name": "python3"
  },
  "language_info": {
   "codemirror_mode": {
    "name": "ipython",
    "version": 3
   },
   "file_extension": ".py",
   "mimetype": "text/x-python",
   "name": "python",
   "nbconvert_exporter": "python",
   "pygments_lexer": "ipython3",
   "version": "3.9.7"
  }
 },
 "nbformat": 4,
 "nbformat_minor": 5
}
